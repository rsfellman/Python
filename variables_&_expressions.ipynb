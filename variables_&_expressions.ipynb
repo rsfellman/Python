{
 "cells": [
  {
   "cell_type": "code",
   "execution_count": null,
   "metadata": {},
   "outputs": [],
   "source": [
    "# Basic data types in Python: Numbers, Strings, Booleans, Sequences, Dictionaries\n",
    "myint = 5\n",
    "myfloat = 13.2\n",
    "mystr = \"This is a string\"\n",
    "mybool = True\n",
    "mylist = [0, 1, \"two\", 3.2, False]\n",
    "mytuple = (0, 1, 2)\n",
    "mydict = {\"one\" : 1, \"two\" : 2}\n",
    "\n",
    "print(myint)\n",
    "print(myfloat)\n",
    "print(mystr)\n",
    "print(mybool)\n",
    "print(mylist)\n",
    "print(mytuple)\n",
    "print(mydict)\n",
    "\n",
    "# re-declaring a variable works\n",
    "\n",
    "# to access a member of a sequence type, use []\n",
    "\n",
    "# use slices to get parts of a sequence\n",
    "\n",
    "# you can use slices to reverse a sequence\n",
    "\n",
    "# dictionaries are accessed via keys\n",
    "\n",
    "# ERROR: variables of different types cannot be combined\n",
    "\n",
    "# Global vs. local variables in functions"
   ]
  }
 ],
 "metadata": {
  "kernelspec": {
   "display_name": "Python 3",
   "language": "python",
   "name": "python3"
  },
  "language_info": {
   "name": "python",
   "version": "3.12.4"
  }
 },
 "nbformat": 4,
 "nbformat_minor": 2
}
